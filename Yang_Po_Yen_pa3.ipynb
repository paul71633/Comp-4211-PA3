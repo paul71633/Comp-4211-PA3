{
  "nbformat": 4,
  "nbformat_minor": 0,
  "metadata": {
    "colab": {
      "name": "Yang_Po_Yen_pa3.ipynb",
      "provenance": []
    },
    "kernelspec": {
      "name": "python3",
      "display_name": "Python 3"
    },
    "language_info": {
      "name": "python"
    },
    "accelerator": "GPU"
  },
  "cells": [
    {
      "cell_type": "code",
      "metadata": {
        "id": "Ou1YKc8AZ4PU"
      },
      "source": [
        "import torch\n",
        "import numpy as np\n",
        "import pandas as pd\n",
        "from torch.utils.data import Dataset\n",
        "from torch.utils.data import DataLoader\n",
        "import torch.nn as nn\n",
        "import matplotlib.pyplot as plt\n",
        "import sklearn\n",
        "import os"
      ],
      "execution_count": 2,
      "outputs": []
    },
    {
      "cell_type": "code",
      "metadata": {
        "colab": {
          "base_uri": "https://localhost:8080/"
        },
        "id": "K96gxasVa6eW",
        "outputId": "9b55510e-5a7d-48f1-ef47-4bae00ae8ac6"
      },
      "source": [
        "from google.colab import drive\n",
        "drive.mount(\"/content/gdrive/\")\n",
        "PATH = \"gdrive/My Drive/Comp 4211/pa3/\""
      ],
      "execution_count": 3,
      "outputs": [
        {
          "output_type": "stream",
          "text": [
            "Mounted at /content/gdrive/\n"
          ],
          "name": "stdout"
        }
      ]
    },
    {
      "cell_type": "code",
      "metadata": {
        "colab": {
          "base_uri": "https://localhost:8080/",
          "height": 221
        },
        "id": "O_l8XhGLdwTW",
        "outputId": "3c2ad479-6fde-47b2-ee8a-b6a35966b7c8"
      },
      "source": [
        "train_path = os.path.join(PATH, \"train.csv\")\n",
        "all_train = pd.read_csv(train_path)\n",
        "test_path = os.path.join(PATH, \"test.csv\")\n",
        "test = pd.read_csv(test_path)\n",
        "print(all_train.shape)\n",
        "all_train.head()"
      ],
      "execution_count": 4,
      "outputs": [
        {
          "output_type": "stream",
          "text": [
            "(12375, 2)\n"
          ],
          "name": "stdout"
        },
        {
          "output_type": "execute_result",
          "data": {
            "text/html": [
              "<div>\n",
              "<style scoped>\n",
              "    .dataframe tbody tr th:only-of-type {\n",
              "        vertical-align: middle;\n",
              "    }\n",
              "\n",
              "    .dataframe tbody tr th {\n",
              "        vertical-align: top;\n",
              "    }\n",
              "\n",
              "    .dataframe thead th {\n",
              "        text-align: right;\n",
              "    }\n",
              "</style>\n",
              "<table border=\"1\" class=\"dataframe\">\n",
              "  <thead>\n",
              "    <tr style=\"text-align: right;\">\n",
              "      <th></th>\n",
              "      <th>label</th>\n",
              "      <th>text</th>\n",
              "    </tr>\n",
              "  </thead>\n",
              "  <tbody>\n",
              "    <tr>\n",
              "      <th>0</th>\n",
              "      <td>0</td>\n",
              "      <td>Toots Thielemans, Who Won Jazz Renown With the...</td>\n",
              "    </tr>\n",
              "    <tr>\n",
              "      <th>1</th>\n",
              "      <td>0</td>\n",
              "      <td>‘The Greatest Loss and Despair’: Thais Mourn T...</td>\n",
              "    </tr>\n",
              "    <tr>\n",
              "      <th>2</th>\n",
              "      <td>0</td>\n",
              "      <td>George Will Leaves the G.O.P. Over Donald Trump</td>\n",
              "    </tr>\n",
              "    <tr>\n",
              "      <th>3</th>\n",
              "      <td>0</td>\n",
              "      <td>Rafael Nadal Upset by Lucas Pouille in Fourth ...</td>\n",
              "    </tr>\n",
              "    <tr>\n",
              "      <th>4</th>\n",
              "      <td>0</td>\n",
              "      <td>Hollywood Holiday Habits: Big Games, Small Gif...</td>\n",
              "    </tr>\n",
              "  </tbody>\n",
              "</table>\n",
              "</div>"
            ],
            "text/plain": [
              "   label                                               text\n",
              "0      0  Toots Thielemans, Who Won Jazz Renown With the...\n",
              "1      0  ‘The Greatest Loss and Despair’: Thais Mourn T...\n",
              "2      0   George Will Leaves the G.O.P. Over Donald Trump \n",
              "3      0  Rafael Nadal Upset by Lucas Pouille in Fourth ...\n",
              "4      0  Hollywood Holiday Habits: Big Games, Small Gif..."
            ]
          },
          "metadata": {
            "tags": []
          },
          "execution_count": 4
        }
      ]
    },
    {
      "cell_type": "code",
      "metadata": {
        "id": "7zo2I4h3fFDe"
      },
      "source": [
        "from sklearn.model_selection import train_test_split\n",
        "all_train_0 = all_train[all_train[\"label\"] == 0]\n",
        "all_train_1 = all_train[all_train[\"label\"] == 1]\n",
        "train_0, valid_0 = train_test_split(all_train_0, test_size = 1000, random_state = 4211)\n",
        "train_1, valid_1 = train_test_split(all_train_1, test_size = 1000, random_state = 4211)"
      ],
      "execution_count": 5,
      "outputs": []
    },
    {
      "cell_type": "code",
      "metadata": {
        "id": "AJMO3WHWjhfM"
      },
      "source": [
        "train_path = os.path.join(PATH, \"train_train.csv\")\n",
        "valid_path = os.path.join(PATH, \"train_valid.csv\")\n",
        "train_0.to_csv(train_path, index = False)\n",
        "train_1.to_csv(train_path, mode = \"a\", header = False, index = False)\n",
        "valid_0.to_csv(valid_path, index = False)\n",
        "valid_1.to_csv(valid_path, mode = \"a\", header = False, index = False)"
      ],
      "execution_count": 6,
      "outputs": []
    },
    {
      "cell_type": "code",
      "metadata": {
        "colab": {
          "base_uri": "https://localhost:8080/"
        },
        "id": "wFySbUKsQB8t",
        "outputId": "45d11fef-2b35-41c3-c880-66677ce22060"
      },
      "source": [
        "!pip install -U torchtext==0.8.0"
      ],
      "execution_count": 7,
      "outputs": [
        {
          "output_type": "stream",
          "text": [
            "Collecting torchtext==0.8.0\n",
            "\u001b[?25l  Downloading https://files.pythonhosted.org/packages/26/8a/e09b9b82d4dd676f17aa681003a7533765346744391966dec0d5dba03ee4/torchtext-0.8.0-cp37-cp37m-manylinux1_x86_64.whl (6.9MB)\n",
            "\u001b[K     |████████████████████████████████| 7.0MB 13.8MB/s \n",
            "\u001b[?25hRequirement already satisfied, skipping upgrade: numpy in /usr/local/lib/python3.7/dist-packages (from torchtext==0.8.0) (1.19.5)\n",
            "Requirement already satisfied, skipping upgrade: tqdm in /usr/local/lib/python3.7/dist-packages (from torchtext==0.8.0) (4.41.1)\n",
            "Requirement already satisfied, skipping upgrade: requests in /usr/local/lib/python3.7/dist-packages (from torchtext==0.8.0) (2.23.0)\n",
            "Requirement already satisfied, skipping upgrade: torch in /usr/local/lib/python3.7/dist-packages (from torchtext==0.8.0) (1.8.1+cu101)\n",
            "Requirement already satisfied, skipping upgrade: idna<3,>=2.5 in /usr/local/lib/python3.7/dist-packages (from requests->torchtext==0.8.0) (2.10)\n",
            "Requirement already satisfied, skipping upgrade: urllib3!=1.25.0,!=1.25.1,<1.26,>=1.21.1 in /usr/local/lib/python3.7/dist-packages (from requests->torchtext==0.8.0) (1.24.3)\n",
            "Requirement already satisfied, skipping upgrade: chardet<4,>=3.0.2 in /usr/local/lib/python3.7/dist-packages (from requests->torchtext==0.8.0) (3.0.4)\n",
            "Requirement already satisfied, skipping upgrade: certifi>=2017.4.17 in /usr/local/lib/python3.7/dist-packages (from requests->torchtext==0.8.0) (2020.12.5)\n",
            "Requirement already satisfied, skipping upgrade: typing-extensions in /usr/local/lib/python3.7/dist-packages (from torch->torchtext==0.8.0) (3.7.4.3)\n",
            "Installing collected packages: torchtext\n",
            "  Found existing installation: torchtext 0.9.1\n",
            "    Uninstalling torchtext-0.9.1:\n",
            "      Successfully uninstalled torchtext-0.9.1\n",
            "Successfully installed torchtext-0.8.0\n"
          ],
          "name": "stdout"
        }
      ]
    },
    {
      "cell_type": "code",
      "metadata": {
        "id": "ocObrHVH-p49",
        "colab": {
          "base_uri": "https://localhost:8080/"
        },
        "outputId": "0ddfef1d-7762-4fa0-eb82-ce0a6841ea27"
      },
      "source": [
        "from torchtext.data import Field, TabularDataset, BucketIterator\n",
        "\n",
        "import nltk\n",
        "nltk.download(\"punkt\")\n",
        "from nltk import word_tokenize\n",
        "\n",
        "txt_field = Field(tokenize = word_tokenize, lower = True, batch_first = True, include_lengths = True) # \"i like the moive\" -> \"i\", \"like\", \"the\", \"movie\"\n",
        "label_field = Field(sequential = False, use_vocab = False, batch_first = True) #0, 1\n",
        "\n",
        "# make splits for data\n",
        "train_data, valid_data = TabularDataset.splits(path = PATH, train = \"train_train.csv\", test = \"train_valid.csv\", format = \"csv\", \n",
        "                                  fields=[(\"label\", label_field), (\"text\", txt_field)], skip_header = True)\n",
        "\n",
        "# build the vocabulary on the training set only, \n",
        "txt_field.build_vocab(train_data, min_freq = 2) \n",
        "#txt_field.build_vocab(valid_data, min_freq = 2)\n",
        "#label_field.build_vocab(train)\n",
        "\n",
        "# make iterator for splits\n",
        "train_iter, valid_iter = BucketIterator.splits((train_data, valid_data), batch_size = 64, sort_key = lambda x: len(x.text), sort_within_batch = True)"
      ],
      "execution_count": 9,
      "outputs": [
        {
          "output_type": "stream",
          "text": [
            "[nltk_data] Downloading package punkt to /root/nltk_data...\n",
            "[nltk_data]   Unzipping tokenizers/punkt.zip.\n"
          ],
          "name": "stdout"
        },
        {
          "output_type": "stream",
          "text": [
            "/usr/local/lib/python3.7/dist-packages/torchtext/data/field.py:150: UserWarning: Field class will be retired soon and moved to torchtext.legacy. Please see the most recent release notes for further information.\n",
            "  warnings.warn('{} class will be retired soon and moved to torchtext.legacy. Please see the most recent release notes for further information.'.format(self.__class__.__name__), UserWarning)\n",
            "/usr/local/lib/python3.7/dist-packages/torchtext/data/example.py:68: UserWarning: Example class will be retired soon and moved to torchtext.legacy. Please see the most recent release notes for further information.\n",
            "  warnings.warn('Example class will be retired soon and moved to torchtext.legacy. Please see the most recent release notes for further information.', UserWarning)\n",
            "/usr/local/lib/python3.7/dist-packages/torchtext/data/example.py:78: UserWarning: Example class will be retired soon and moved to torchtext.legacy. Please see the most recent release notes for further information.\n",
            "  warnings.warn('Example class will be retired soon and moved to torchtext.legacy. Please see the most recent release notes for further information.', UserWarning)\n",
            "/usr/local/lib/python3.7/dist-packages/torchtext/data/iterator.py:48: UserWarning: BucketIterator class will be retired soon and moved to torchtext.legacy. Please see the most recent release notes for further information.\n",
            "  warnings.warn('{} class will be retired soon and moved to torchtext.legacy. Please see the most recent release notes for further information.'.format(self.__class__.__name__), UserWarning)\n"
          ],
          "name": "stderr"
        }
      ]
    },
    {
      "cell_type": "code",
      "metadata": {
        "colab": {
          "base_uri": "https://localhost:8080/"
        },
        "id": "hjrYV5SLMBQc",
        "outputId": "26b7c686-48f0-4df3-8f3a-542d7c2c8a66"
      },
      "source": [
        "oov = 0\n",
        "train_vocabulary = []\n",
        "for ex in train_data.examples:\n",
        "  for vocabulary in ex.text:\n",
        "    if (vocabulary in train_vocabulary):\n",
        "      continue\n",
        "    else:\n",
        "      train_vocabulary.append(vocabulary)\n",
        "for vocabulary in train_vocabulary:\n",
        "  if (txt_field.vocab.freqs[vocabulary] < 2):\n",
        "    oov = oov + 1\n",
        "  else:\n",
        "    oov = oov\n",
        "print(oov)"
      ],
      "execution_count": 10,
      "outputs": [
        {
          "output_type": "stream",
          "text": [
            "8650\n"
          ],
          "name": "stdout"
        }
      ]
    },
    {
      "cell_type": "code",
      "metadata": {
        "colab": {
          "base_uri": "https://localhost:8080/"
        },
        "id": "Ls08KgXHLYZM",
        "outputId": "03dc2a13-0edc-4e61-ed31-a292f02e1e5e"
      },
      "source": [
        "oov = 0\n",
        "valid_vocabulary = []\n",
        "for ex in valid_data.examples:\n",
        "  for vocabulary in ex.text:\n",
        "    if (vocabulary in valid_vocabulary):\n",
        "      continue\n",
        "    else:\n",
        "      valid_vocabulary.append(vocabulary)\n",
        "for vocabulary in valid_vocabulary:\n",
        "  if (txt_field.vocab.freqs[vocabulary] < 2):\n",
        "    oov = oov + 1\n",
        "  else:\n",
        "    oov = oov\n",
        "print(oov)"
      ],
      "execution_count": 11,
      "outputs": [
        {
          "output_type": "stream",
          "text": [
            "2740\n"
          ],
          "name": "stdout"
        }
      ]
    },
    {
      "cell_type": "code",
      "metadata": {
        "id": "svc4TUTN63dE"
      },
      "source": [
        "import torch.nn as nn\n",
        "class baseline_model(nn.Module):\n",
        "    def __init__(self, n_vocab, embedding_dim):\n",
        "        super(baseline_model, self).__init__()\n",
        "        self.emb = nn.Embedding(n_vocab, embedding_dim) \n",
        "        self.rnn = nn.RNN(\n",
        "                input_size = embedding_dim,\n",
        "                hidden_size = 64,\n",
        "                num_layers = 1,\n",
        "                batch_first=True\n",
        "        )\n",
        "        self.drop = nn.Dropout(0.1)\n",
        "        self.linear = nn.Linear(64, 1)\n",
        "        #self.sigmoid = nn.Sigmoid()\n",
        "\n",
        "    def forward(self, text):\n",
        "        # sent: batch_size, max_sent_len\n",
        "        # sent_len: batch_size\n",
        "        text_emb = self.emb(text)  #batch_size, max_sent_len, embedding_dim\n",
        "        \n",
        "        # method 1\n",
        "        outputs, hidden = self.rnn(text_emb)\n",
        "        outputs = outputs[:, -1, :]\n",
        "        outputs = self.linear(self.drop(outputs))\n",
        "        #outputs = self.sigmoid(outputs)\n",
        "        return outputs"
      ],
      "execution_count": 12,
      "outputs": []
    },
    {
      "cell_type": "code",
      "metadata": {
        "colab": {
          "base_uri": "https://localhost:8080/",
          "height": 646
        },
        "id": "MM4ZSSD5o6yw",
        "outputId": "423a9474-7695-479e-c51e-60a89fd46023"
      },
      "source": [
        "!pip install torchsummaryX\n",
        "from torchsummaryX import summary\n",
        "\n",
        "device = torch.device(\"cuda\" if torch.cuda.is_available() else \"cpu\")\n",
        "print(device)\n",
        "\n",
        "n_vocab = len(txt_field.vocab)\n",
        "model = baseline_model(n_vocab, 50).cuda()\n",
        "summary(model, torch.zeros((64, 12), dtype = torch.long).cuda())"
      ],
      "execution_count": 13,
      "outputs": [
        {
          "output_type": "stream",
          "text": [
            "Collecting torchsummaryX\n",
            "  Downloading https://files.pythonhosted.org/packages/36/23/87eeaaf70daa61aa21495ece0969c50c446b8fd42c4b8905af264b40fe7f/torchsummaryX-1.3.0-py3-none-any.whl\n",
            "Requirement already satisfied: numpy in /usr/local/lib/python3.7/dist-packages (from torchsummaryX) (1.19.5)\n",
            "Requirement already satisfied: torch in /usr/local/lib/python3.7/dist-packages (from torchsummaryX) (1.8.1+cu101)\n",
            "Requirement already satisfied: pandas in /usr/local/lib/python3.7/dist-packages (from torchsummaryX) (1.1.5)\n",
            "Requirement already satisfied: typing-extensions in /usr/local/lib/python3.7/dist-packages (from torch->torchsummaryX) (3.7.4.3)\n",
            "Requirement already satisfied: python-dateutil>=2.7.3 in /usr/local/lib/python3.7/dist-packages (from pandas->torchsummaryX) (2.8.1)\n",
            "Requirement already satisfied: pytz>=2017.2 in /usr/local/lib/python3.7/dist-packages (from pandas->torchsummaryX) (2018.9)\n",
            "Requirement already satisfied: six>=1.5 in /usr/local/lib/python3.7/dist-packages (from python-dateutil>=2.7.3->pandas->torchsummaryX) (1.15.0)\n",
            "Installing collected packages: torchsummaryX\n",
            "Successfully installed torchsummaryX-1.3.0\n",
            "cuda\n",
            "========================================================\n",
            "         Kernel Shape  Output Shape   Params Mult-Adds\n",
            "Layer                                                 \n",
            "0_emb      [50, 7953]  [64, 12, 50]  397.65k   397.65k\n",
            "1_rnn               -  [64, 12, 64]   7.424k    7.296k\n",
            "2_drop              -      [64, 64]        -         -\n",
            "3_linear      [64, 1]       [64, 1]     65.0      64.0\n",
            "--------------------------------------------------------\n",
            "                        Totals\n",
            "Total params          405.139k\n",
            "Trainable params      405.139k\n",
            "Non-trainable params       0.0\n",
            "Mult-Adds              405.01k\n",
            "========================================================\n"
          ],
          "name": "stdout"
        },
        {
          "output_type": "execute_result",
          "data": {
            "text/html": [
              "<div>\n",
              "<style scoped>\n",
              "    .dataframe tbody tr th:only-of-type {\n",
              "        vertical-align: middle;\n",
              "    }\n",
              "\n",
              "    .dataframe tbody tr th {\n",
              "        vertical-align: top;\n",
              "    }\n",
              "\n",
              "    .dataframe thead th {\n",
              "        text-align: right;\n",
              "    }\n",
              "</style>\n",
              "<table border=\"1\" class=\"dataframe\">\n",
              "  <thead>\n",
              "    <tr style=\"text-align: right;\">\n",
              "      <th></th>\n",
              "      <th>Kernel Shape</th>\n",
              "      <th>Output Shape</th>\n",
              "      <th>Params</th>\n",
              "      <th>Mult-Adds</th>\n",
              "    </tr>\n",
              "    <tr>\n",
              "      <th>Layer</th>\n",
              "      <th></th>\n",
              "      <th></th>\n",
              "      <th></th>\n",
              "      <th></th>\n",
              "    </tr>\n",
              "  </thead>\n",
              "  <tbody>\n",
              "    <tr>\n",
              "      <th>0_emb</th>\n",
              "      <td>[50, 7953]</td>\n",
              "      <td>[64, 12, 50]</td>\n",
              "      <td>397650.0</td>\n",
              "      <td>397650.0</td>\n",
              "    </tr>\n",
              "    <tr>\n",
              "      <th>1_rnn</th>\n",
              "      <td>-</td>\n",
              "      <td>[64, 12, 64]</td>\n",
              "      <td>7424.0</td>\n",
              "      <td>7296.0</td>\n",
              "    </tr>\n",
              "    <tr>\n",
              "      <th>2_drop</th>\n",
              "      <td>-</td>\n",
              "      <td>[64, 64]</td>\n",
              "      <td>NaN</td>\n",
              "      <td>NaN</td>\n",
              "    </tr>\n",
              "    <tr>\n",
              "      <th>3_linear</th>\n",
              "      <td>[64, 1]</td>\n",
              "      <td>[64, 1]</td>\n",
              "      <td>65.0</td>\n",
              "      <td>64.0</td>\n",
              "    </tr>\n",
              "  </tbody>\n",
              "</table>\n",
              "</div>"
            ],
            "text/plain": [
              "         Kernel Shape  Output Shape    Params  Mult-Adds\n",
              "Layer                                                   \n",
              "0_emb      [50, 7953]  [64, 12, 50]  397650.0   397650.0\n",
              "1_rnn               -  [64, 12, 64]    7424.0     7296.0\n",
              "2_drop              -      [64, 64]       NaN        NaN\n",
              "3_linear      [64, 1]       [64, 1]      65.0       64.0"
            ]
          },
          "metadata": {
            "tags": []
          },
          "execution_count": 13
        }
      ]
    },
    {
      "cell_type": "code",
      "metadata": {
        "id": "IBV_EUmzfr-J"
      },
      "source": [
        "def save_checkpoint(save_path, model, optimizer, val_acc):\n",
        "    if save_path==None:\n",
        "        return\n",
        "    save_path = save_path \n",
        "    state_dict = {'model_state_dict': model.state_dict(),\n",
        "                  'optimizer_state_dict': optimizer.state_dict(),\n",
        "                  'val_acc': val_acc}\n",
        "\n",
        "    torch.save(state_dict, save_path)\n",
        "    print(f'Model saved to {save_path}')\n",
        "\n",
        "def load_checkpoint(save_path, model, optimizer):\n",
        "    save_path = save_path \n",
        "    state_dict = torch.load(save_path)\n",
        "    model.load_state_dict(state_dict['model_state_dict'])\n",
        "    optimizer.load_state_dict(state_dict['optimizer_state_dict'])\n",
        "    val_acc = state_dict['val_acc']\n",
        "    print(f'Model loaded from {save_path}, with val accuracy: {val_acc}')\n",
        "    return val_acc\n",
        "\n",
        "\n",
        "def TRAIN(model, train_loader, valid_loader, num_epochs, criterion, optimizer, val_acc, device, save_name):\n",
        "    \n",
        "    train_loss_record = []\n",
        "    valid_loss_record = []\n",
        "    \n",
        "    if val_acc==None:\n",
        "        best_val_acc = float(0)  \n",
        "    else: \n",
        "        best_val_acc=val_acc\n",
        "        print('Resume training')\n",
        "    \n",
        "    model.to(device)\n",
        "    \n",
        "    for epoch in range(num_epochs):  # loop over the dataset multiple times\n",
        "        model.train()\n",
        "        running_loss = 0.0\n",
        "        train_correct = 0\n",
        "        #for i, (input, label) in enumerate(train_loader):\n",
        "        for b in train_loader:\n",
        "          text, text_len = b.text\n",
        "          input = text\n",
        "          input = input.to(device)\n",
        "          label = b.label\n",
        "          label = label.to(torch.float32)\n",
        "          label = label.to(device)\n",
        "\n",
        "          '''Training of the model'''\n",
        "          # Forward pass\n",
        "          output = model(input)\n",
        "          output = torch.squeeze(output, 1)\n",
        "          loss = criterion(output, label)\n",
        "\n",
        "          # Backward and optimize\n",
        "          optimizer.zero_grad()\n",
        "          loss.backward()\n",
        "          optimizer.step()\n",
        "\n",
        "          running_loss += loss.item()\n",
        "\n",
        "          output = (output > 0.5)\n",
        "          train_correct = train_correct + torch.sum(output == label.data)\n",
        "\n",
        "          \n",
        "          \n",
        "\n",
        "        train_loss = running_loss / len(train_loader)\n",
        "        train_loss_record.append(train_loss)\n",
        "\n",
        "        train_accuracy = train_correct / float(len(train_loader.dataset))\n",
        "\n",
        "        with torch.no_grad():\n",
        "            model.eval()\n",
        "            running_loss = 0.0\n",
        "            valid_correct = 0\n",
        "            #for i, (input, label) in enumerate(valid_loader):\n",
        "            for b in valid_loader:\n",
        "              text, text_len = b.text\n",
        "              input = text\n",
        "              input = input.to(device)\n",
        "              label = b.label\n",
        "              label = label.to(torch.float32)\n",
        "              label = label.to(device)                \n",
        "\n",
        "              # Forward pass\n",
        "              output = model(input)\n",
        "              output = torch.squeeze(output, 1)\n",
        "              loss = criterion(output, label)\n",
        "\n",
        "              running_loss += loss.item()\n",
        "\n",
        "              output = (output > 0.5)\n",
        "              \n",
        "              valid_correct = valid_correct + torch.sum(output == label.data)\n",
        "          \n",
        "\n",
        "              \n",
        "\n",
        "            val_loss = running_loss / len(valid_loader)\n",
        "            valid_loss_record.append(val_loss)\n",
        "\n",
        "            valid_accuracy = valid_correct / float(len(valid_loader.dataset))\n",
        "\n",
        "            print('Epoch [{}/{}], Train Loss: {:.4f}, Valid Loss: {:.4f}, Train Accuracy: {:.4f}, Valid Accuracy: {:.4f}' \n",
        "                  .format(epoch+1, num_epochs, train_loss, val_loss, train_accuracy, valid_accuracy))\n",
        "            \n",
        "            \n",
        "\n",
        "            if valid_accuracy > best_val_acc:\n",
        "                best_val_acc = valid_accuracy\n",
        "                save_checkpoint(save_name, model, optimizer, best_val_acc)\n",
        "                    \n",
        "    print('Finished Training')\n",
        "    return train_loss_record, valid_loss_record"
      ],
      "execution_count": 23,
      "outputs": []
    },
    {
      "cell_type": "code",
      "metadata": {
        "colab": {
          "base_uri": "https://localhost:8080/"
        },
        "id": "QQGZCJRaIHo2",
        "outputId": "8bc03fe3-bf5f-43be-dcf0-ce7f8872c381"
      },
      "source": [
        "from torch.optim import Adam\n",
        "\n",
        "#device = torch.device('cuda' if torch.cuda.is_available() else 'cpu')\n",
        "#print(device)\n",
        "\n",
        "n_epochs = 15\n",
        "val_acc = None\n",
        "#save_name = 'rnn_model'\n",
        "save_path = os.path.join(PATH, \"rnn_model\")\n",
        "criterion = nn.BCEWithLogitsLoss()\n",
        "#criterion = nn.BCELoss()\n",
        "optimizer = Adam(model.parameters())\n",
        "#start training\n",
        "train_loss_record, valid_loss_record = TRAIN(model, train_iter, valid_iter, n_epochs, criterion, optimizer, val_acc, device, save_path)"
      ],
      "execution_count": 29,
      "outputs": [
        {
          "output_type": "stream",
          "text": [
            "/usr/local/lib/python3.7/dist-packages/torchtext/data/batch.py:23: UserWarning: Batch class will be retired soon and moved to torchtext.legacy. Please see the most recent release notes for further information.\n",
            "  warnings.warn('{} class will be retired soon and moved to torchtext.legacy. Please see the most recent release notes for further information.'.format(self.__class__.__name__), UserWarning)\n"
          ],
          "name": "stderr"
        },
        {
          "output_type": "stream",
          "text": [
            "Epoch [1/15], Train Loss: 0.4910, Valid Loss: 0.8419, Train Accuracy: 0.8078, Valid Accuracy: 0.5315\n",
            "Model saved to gdrive/My Drive/Comp 4211/pa3/rnn_model\n",
            "Epoch [2/15], Train Loss: 0.4240, Valid Loss: 0.6633, Train Accuracy: 0.8245, Valid Accuracy: 0.5940\n",
            "Model saved to gdrive/My Drive/Comp 4211/pa3/rnn_model\n",
            "Epoch [3/15], Train Loss: 0.3799, Valid Loss: 0.6813, Train Accuracy: 0.8492, Valid Accuracy: 0.6240\n",
            "Model saved to gdrive/My Drive/Comp 4211/pa3/rnn_model\n",
            "Epoch [4/15], Train Loss: 0.3326, Valid Loss: 0.6893, Train Accuracy: 0.8681, Valid Accuracy: 0.6675\n",
            "Model saved to gdrive/My Drive/Comp 4211/pa3/rnn_model\n",
            "Epoch [5/15], Train Loss: 0.2878, Valid Loss: 0.6829, Train Accuracy: 0.8904, Valid Accuracy: 0.6750\n",
            "Model saved to gdrive/My Drive/Comp 4211/pa3/rnn_model\n",
            "Epoch [6/15], Train Loss: 0.2460, Valid Loss: 0.5475, Train Accuracy: 0.9079, Valid Accuracy: 0.7160\n",
            "Model saved to gdrive/My Drive/Comp 4211/pa3/rnn_model\n",
            "Epoch [7/15], Train Loss: 0.2144, Valid Loss: 0.6461, Train Accuracy: 0.9209, Valid Accuracy: 0.7195\n",
            "Model saved to gdrive/My Drive/Comp 4211/pa3/rnn_model\n",
            "Epoch [8/15], Train Loss: 0.1785, Valid Loss: 0.5317, Train Accuracy: 0.9359, Valid Accuracy: 0.7600\n",
            "Model saved to gdrive/My Drive/Comp 4211/pa3/rnn_model\n",
            "Epoch [9/15], Train Loss: 0.1555, Valid Loss: 0.6736, Train Accuracy: 0.9453, Valid Accuracy: 0.7690\n",
            "Model saved to gdrive/My Drive/Comp 4211/pa3/rnn_model\n",
            "Epoch [10/15], Train Loss: 0.1360, Valid Loss: 0.6899, Train Accuracy: 0.9568, Valid Accuracy: 0.7490\n",
            "Epoch [11/15], Train Loss: 0.1107, Valid Loss: 0.7471, Train Accuracy: 0.9634, Valid Accuracy: 0.7535\n",
            "Epoch [12/15], Train Loss: 0.1167, Valid Loss: 0.6769, Train Accuracy: 0.9610, Valid Accuracy: 0.7745\n",
            "Model saved to gdrive/My Drive/Comp 4211/pa3/rnn_model\n",
            "Epoch [13/15], Train Loss: 0.0773, Valid Loss: 0.7847, Train Accuracy: 0.9771, Valid Accuracy: 0.7700\n",
            "Epoch [14/15], Train Loss: 0.0728, Valid Loss: 0.6773, Train Accuracy: 0.9795, Valid Accuracy: 0.7920\n",
            "Model saved to gdrive/My Drive/Comp 4211/pa3/rnn_model\n",
            "Epoch [15/15], Train Loss: 0.0617, Valid Loss: 0.7412, Train Accuracy: 0.9825, Valid Accuracy: 0.7910\n",
            "Finished Training\n"
          ],
          "name": "stdout"
        }
      ]
    },
    {
      "cell_type": "code",
      "metadata": {
        "colab": {
          "base_uri": "https://localhost:8080/",
          "height": 374
        },
        "id": "hyy1MTCX8NXQ",
        "outputId": "b8228aa2-d69e-4e6b-ede8-4a56aac8bfee"
      },
      "source": [
        "plt.figure(figsize=(10, 6))\n",
        "plt.plot(train_loss_record, c='red', label=\"Training Loss\")\n",
        "plt.plot(valid_loss_record, c='green', label=\"Validation Loss\")\n",
        "plt.legend()\n",
        "plt.show()"
      ],
      "execution_count": 30,
      "outputs": [
        {
          "output_type": "display_data",
          "data": {
            "image/png": "[encoded data removed]",
            "text/plain": [
              "<Figure size 720x432 with 1 Axes>"
            ]
          },
          "metadata": {
            "tags": [],
            "needs_background": "light"
          }
        }
      ]
    },
    {
      "cell_type": "code",
      "metadata": {
        "id": "IdYmt_CMIKmk"
      },
      "source": [
        "class baseline_model_GRU(nn.Module):\n",
        "    def __init__(self, n_vocab, embedding_dim):\n",
        "        super(baseline_model_GRU, self).__init__()\n",
        "        self.emb = nn.Embedding(n_vocab, embedding_dim) \n",
        "        self.rnn = nn.GRU(\n",
        "                input_size = embedding_dim,\n",
        "                hidden_size = 64,\n",
        "                num_layers = 1,\n",
        "                batch_first=True\n",
        "        )\n",
        "        self.drop = nn.Dropout(0.1)\n",
        "        self.linear = nn.Linear(64, 1)\n",
        "        #self.sigmoid = nn.Sigmoid()\n",
        "\n",
        "    def forward(self, text):\n",
        "        # sent: batch_size, max_sent_len\n",
        "        # sent_len: batch_size\n",
        "        text_emb = self.emb(text)  #batch_size, max_sent_len, embedding_dim\n",
        "        \n",
        "        # method 1\n",
        "        outputs, hidden = self.rnn(text_emb)\n",
        "        outputs = outputs[:, -1, :]\n",
        "        outputs = self.linear(self.drop(outputs))\n",
        "        #outputs = self.sigmoid(outputs)\n",
        "        return outputs"
      ],
      "execution_count": 31,
      "outputs": []
    },
    {
      "cell_type": "code",
      "metadata": {
        "colab": {
          "base_uri": "https://localhost:8080/"
        },
        "id": "bFxRdaJzc_CH",
        "outputId": "41b57cca-f1f8-467f-b6d1-164372d12835"
      },
      "source": [
        "n_epochs = 15\n",
        "val_acc = None\n",
        "model_GRU = baseline_model_GRU(n_vocab, 50).cuda()\n",
        "save_path = os.path.join(PATH, \"gru_model\")\n",
        "criterion = nn.BCEWithLogitsLoss()\n",
        "#criterion = nn.BCELoss()\n",
        "optimizer = Adam(model_GRU.parameters())\n",
        "#start training\n",
        "train_loss_record_GRU, valid_loss_record_GRU = TRAIN(model_GRU, train_iter, valid_iter, n_epochs, criterion, optimizer, val_acc, device, save_path)"
      ],
      "execution_count": 32,
      "outputs": [
        {
          "output_type": "stream",
          "text": [
            "/usr/local/lib/python3.7/dist-packages/torchtext/data/batch.py:23: UserWarning: Batch class will be retired soon and moved to torchtext.legacy. Please see the most recent release notes for further information.\n",
            "  warnings.warn('{} class will be retired soon and moved to torchtext.legacy. Please see the most recent release notes for further information.'.format(self.__class__.__name__), UserWarning)\n"
          ],
          "name": "stderr"
        },
        {
          "output_type": "stream",
          "text": [
            "Epoch [1/15], Train Loss: 0.4818, Valid Loss: 0.6952, Train Accuracy: 0.8075, Valid Accuracy: 0.5310\n",
            "Model saved to gdrive/My Drive/Comp 4211/pa3/gru_model\n",
            "Epoch [2/15], Train Loss: 0.3958, Valid Loss: 0.6029, Train Accuracy: 0.8279, Valid Accuracy: 0.6340\n",
            "Model saved to gdrive/My Drive/Comp 4211/pa3/gru_model\n",
            "Epoch [3/15], Train Loss: 0.3306, Valid Loss: 0.6219, Train Accuracy: 0.8618, Valid Accuracy: 0.6775\n",
            "Model saved to gdrive/My Drive/Comp 4211/pa3/gru_model\n",
            "Epoch [4/15], Train Loss: 0.2633, Valid Loss: 0.5425, Train Accuracy: 0.8942, Valid Accuracy: 0.7310\n",
            "Model saved to gdrive/My Drive/Comp 4211/pa3/gru_model\n",
            "Epoch [5/15], Train Loss: 0.2174, Valid Loss: 0.5364, Train Accuracy: 0.9160, Valid Accuracy: 0.7395\n",
            "Model saved to gdrive/My Drive/Comp 4211/pa3/gru_model\n",
            "Epoch [6/15], Train Loss: 0.1728, Valid Loss: 0.5744, Train Accuracy: 0.9322, Valid Accuracy: 0.7665\n",
            "Model saved to gdrive/My Drive/Comp 4211/pa3/gru_model\n",
            "Epoch [7/15], Train Loss: 0.1372, Valid Loss: 0.5797, Train Accuracy: 0.9466, Valid Accuracy: 0.7615\n",
            "Epoch [8/15], Train Loss: 0.1035, Valid Loss: 0.6660, Train Accuracy: 0.9622, Valid Accuracy: 0.7715\n",
            "Model saved to gdrive/My Drive/Comp 4211/pa3/gru_model\n",
            "Epoch [9/15], Train Loss: 0.0769, Valid Loss: 0.7511, Train Accuracy: 0.9731, Valid Accuracy: 0.7690\n",
            "Epoch [10/15], Train Loss: 0.0521, Valid Loss: 0.8365, Train Accuracy: 0.9813, Valid Accuracy: 0.7845\n",
            "Model saved to gdrive/My Drive/Comp 4211/pa3/gru_model\n",
            "Epoch [11/15], Train Loss: 0.0351, Valid Loss: 1.0175, Train Accuracy: 0.9893, Valid Accuracy: 0.7675\n",
            "Epoch [12/15], Train Loss: 0.0275, Valid Loss: 1.0513, Train Accuracy: 0.9907, Valid Accuracy: 0.7770\n",
            "Epoch [13/15], Train Loss: 0.0139, Valid Loss: 1.1406, Train Accuracy: 0.9960, Valid Accuracy: 0.7755\n",
            "Epoch [14/15], Train Loss: 0.0075, Valid Loss: 1.1979, Train Accuracy: 0.9982, Valid Accuracy: 0.7810\n",
            "Epoch [15/15], Train Loss: 0.0038, Valid Loss: 1.2637, Train Accuracy: 0.9995, Valid Accuracy: 0.7880\n",
            "Model saved to gdrive/My Drive/Comp 4211/pa3/gru_model\n",
            "Finished Training\n"
          ],
          "name": "stdout"
        }
      ]
    },
    {
      "cell_type": "code",
      "metadata": {
        "id": "PYX7q0vDeJaT"
      },
      "source": [
        "class baseline_model_LSTM(nn.Module):\n",
        "    def __init__(self, n_vocab, embedding_dim):\n",
        "        super(baseline_model_LSTM, self).__init__()\n",
        "        self.emb = nn.Embedding(n_vocab, embedding_dim) \n",
        "        self.rnn = nn.LSTM(\n",
        "                input_size = embedding_dim,\n",
        "                hidden_size = 64,\n",
        "                num_layers = 1,\n",
        "                batch_first=True\n",
        "        )\n",
        "        self.drop = nn.Dropout(0.1)\n",
        "        self.linear = nn.Linear(64, 1)\n",
        "        #self.sigmoid = nn.Sigmoid()\n",
        "\n",
        "    def forward(self, text):\n",
        "        # sent: batch_size, max_sent_len\n",
        "        # sent_len: batch_size\n",
        "        text_emb = self.emb(text)  #batch_size, max_sent_len, embedding_dim\n",
        "        \n",
        "        # method 1\n",
        "        outputs, hidden = self.rnn(text_emb)\n",
        "        outputs = outputs[:, -1, :]\n",
        "        outputs = self.linear(self.drop(outputs))\n",
        "        #outputs = self.sigmoid(outputs)\n",
        "        return outputs"
      ],
      "execution_count": 33,
      "outputs": []
    },
    {
      "cell_type": "code",
      "metadata": {
        "colab": {
          "base_uri": "https://localhost:8080/"
        },
        "id": "btps3tUnef6A",
        "outputId": "1503e61f-dbfd-47c4-9da2-202a301281f5"
      },
      "source": [
        "n_epochs = 15\n",
        "val_acc = None\n",
        "model_LSTM = baseline_model_LSTM(n_vocab, 50).cuda()\n",
        "save_path = os.path.join(PATH, \"lstm_model\")\n",
        "criterion = nn.BCEWithLogitsLoss()\n",
        "#criterion = nn.BCELoss()\n",
        "optimizer = Adam(model_LSTM.parameters())\n",
        "#start training\n",
        "train_loss_record_LSTM, valid_loss_record_LSTM = TRAIN(model_LSTM, train_iter, valid_iter, n_epochs, criterion, optimizer, val_acc, device, save_path)"
      ],
      "execution_count": 34,
      "outputs": [
        {
          "output_type": "stream",
          "text": [
            "/usr/local/lib/python3.7/dist-packages/torchtext/data/batch.py:23: UserWarning: Batch class will be retired soon and moved to torchtext.legacy. Please see the most recent release notes for further information.\n",
            "  warnings.warn('{} class will be retired soon and moved to torchtext.legacy. Please see the most recent release notes for further information.'.format(self.__class__.__name__), UserWarning)\n"
          ],
          "name": "stderr"
        },
        {
          "output_type": "stream",
          "text": [
            "Epoch [1/15], Train Loss: 0.4967, Valid Loss: 0.6685, Train Accuracy: 0.8072, Valid Accuracy: 0.5005\n",
            "Model saved to gdrive/My Drive/Comp 4211/pa3/lstm_model\n",
            "Epoch [2/15], Train Loss: 0.3969, Valid Loss: 0.6736, Train Accuracy: 0.8210, Valid Accuracy: 0.5870\n",
            "Model saved to gdrive/My Drive/Comp 4211/pa3/lstm_model\n",
            "Epoch [3/15], Train Loss: 0.3369, Valid Loss: 0.5182, Train Accuracy: 0.8596, Valid Accuracy: 0.7240\n",
            "Model saved to gdrive/My Drive/Comp 4211/pa3/lstm_model\n",
            "Epoch [4/15], Train Loss: 0.2768, Valid Loss: 0.4892, Train Accuracy: 0.8852, Valid Accuracy: 0.7680\n",
            "Model saved to gdrive/My Drive/Comp 4211/pa3/lstm_model\n",
            "Epoch [5/15], Train Loss: 0.2258, Valid Loss: 0.4989, Train Accuracy: 0.9087, Valid Accuracy: 0.7715\n",
            "Model saved to gdrive/My Drive/Comp 4211/pa3/lstm_model\n",
            "Epoch [6/15], Train Loss: 0.1854, Valid Loss: 0.5399, Train Accuracy: 0.9282, Valid Accuracy: 0.7705\n",
            "Epoch [7/15], Train Loss: 0.1681, Valid Loss: 0.5991, Train Accuracy: 0.9339, Valid Accuracy: 0.7290\n",
            "Epoch [8/15], Train Loss: 0.1266, Valid Loss: 0.6165, Train Accuracy: 0.9537, Valid Accuracy: 0.7590\n",
            "Epoch [9/15], Train Loss: 0.0932, Valid Loss: 0.6986, Train Accuracy: 0.9675, Valid Accuracy: 0.7660\n",
            "Epoch [10/15], Train Loss: 0.0712, Valid Loss: 0.7037, Train Accuracy: 0.9766, Valid Accuracy: 0.7790\n",
            "Model saved to gdrive/My Drive/Comp 4211/pa3/lstm_model\n",
            "Epoch [11/15], Train Loss: 0.0581, Valid Loss: 0.8290, Train Accuracy: 0.9812, Valid Accuracy: 0.7665\n",
            "Epoch [12/15], Train Loss: 0.0449, Valid Loss: 0.9204, Train Accuracy: 0.9862, Valid Accuracy: 0.7745\n",
            "Epoch [13/15], Train Loss: 0.0385, Valid Loss: 0.9142, Train Accuracy: 0.9884, Valid Accuracy: 0.7735\n",
            "Epoch [14/15], Train Loss: 0.0249, Valid Loss: 0.9030, Train Accuracy: 0.9933, Valid Accuracy: 0.7820\n",
            "Model saved to gdrive/My Drive/Comp 4211/pa3/lstm_model\n",
            "Epoch [15/15], Train Loss: 0.0197, Valid Loss: 0.9529, Train Accuracy: 0.9950, Valid Accuracy: 0.7760\n",
            "Finished Training\n"
          ],
          "name": "stdout"
        }
      ]
    },
    {
      "cell_type": "code",
      "metadata": {
        "colab": {
          "base_uri": "https://localhost:8080/",
          "height": 374
        },
        "id": "CHKtNOvJjwaN",
        "outputId": "9535d7e4-0b68-430d-8f07-e6e3527dabed"
      },
      "source": [
        "plt.figure(figsize=(10, 6))\n",
        "plt.plot(train_loss_record, label=\"RNN Training Loss\")\n",
        "plt.plot(valid_loss_record, label=\"RNN Validation Loss\")\n",
        "plt.plot(train_loss_record_GRU, label=\"GRU Training Loss\")\n",
        "plt.plot(valid_loss_record_GRU, label=\"GRU Validation Loss\")\n",
        "plt.plot(train_loss_record_LSTM, label=\"LSTM Training Loss\")\n",
        "plt.plot(valid_loss_record_LSTM, label=\"LSTM Validation Loss\")\n",
        "plt.legend()\n",
        "plt.show()"
      ],
      "execution_count": 26,
      "outputs": [
        {
          "output_type": "display_data",
          "data": {
            "image/png": "[encoded data removed]",
            "text/plain": [
              "<Figure size 720x432 with 1 Axes>"
            ]
          },
          "metadata": {
            "tags": [],
            "needs_background": "light"
          }
        }
      ]
    },
    {
      "cell_type": "code",
      "metadata": {
        "id": "1n2EEuJ8ek9N"
      },
      "source": [
        "class baseline_model_LSTM_Bidirectional(nn.Module):\n",
        "    def __init__(self, n_vocab, embedding_dim):\n",
        "        super(baseline_model_LSTM_Bidirectional, self).__init__()\n",
        "        self.emb = nn.Embedding(n_vocab, embedding_dim) \n",
        "        self.rnn = nn.LSTM(\n",
        "                input_size = embedding_dim,\n",
        "                hidden_size = 64,\n",
        "                num_layers = 1,\n",
        "                batch_first=True,\n",
        "                bidirectional = True\n",
        "        )\n",
        "        self.drop = nn.Dropout(0.1)\n",
        "        self.linear = nn.Linear(128, 1)\n",
        "        #self.sigmoid = nn.Sigmoid()\n",
        "\n",
        "    def forward(self, text):\n",
        "        # sent: batch_size, max_sent_len\n",
        "        # sent_len: batch_size\n",
        "        text_emb = self.emb(text)  #batch_size, max_sent_len, embedding_dim\n",
        "        \n",
        "        # method 1\n",
        "        outputs, hidden = self.rnn(text_emb)\n",
        "        outputs = outputs[:, -1, :]\n",
        "        outputs = self.linear(self.drop(outputs))\n",
        "        #outputs = self.sigmoid(outputs)\n",
        "        return outputs"
      ],
      "execution_count": 27,
      "outputs": []
    },
    {
      "cell_type": "code",
      "metadata": {
        "colab": {
          "base_uri": "https://localhost:8080/"
        },
        "id": "k1XijM0ofIQM",
        "outputId": "3803c7d1-7357-432f-f3c8-e7423f4826d3"
      },
      "source": [
        "n_epochs = 15\n",
        "val_acc = None\n",
        "model_LSTM_Bidirectional = baseline_model_LSTM_Bidirectional(n_vocab, 50).cuda()\n",
        "save_path = os.path.join(PATH, \"lstm_bidirectional_model\")\n",
        "criterion = nn.BCEWithLogitsLoss()\n",
        "#criterion = nn.BCELoss()\n",
        "optimizer = Adam(model_LSTM_Bidirectional.parameters())\n",
        "#start training\n",
        "train_loss_record_LSTM_Bidirectional, valid_loss_record_LSTM_Bidirectional = TRAIN(model_LSTM_Bidirectional, train_iter, valid_iter, n_epochs, criterion, optimizer, val_acc, device, save_path)"
      ],
      "execution_count": 28,
      "outputs": [
        {
          "output_type": "stream",
          "text": [
            "/usr/local/lib/python3.7/dist-packages/torchtext/data/batch.py:23: UserWarning: Batch class will be retired soon and moved to torchtext.legacy. Please see the most recent release notes for further information.\n",
            "  warnings.warn('{} class will be retired soon and moved to torchtext.legacy. Please see the most recent release notes for further information.'.format(self.__class__.__name__), UserWarning)\n"
          ],
          "name": "stderr"
        },
        {
          "output_type": "stream",
          "text": [
            "Epoch [1/15], Train Loss: 0.4822, Valid Loss: 0.7548, Train Accuracy: 0.8075, Valid Accuracy: 0.5025\n",
            "Model saved to gdrive/My Drive/Comp 4211/pa3/lstm_bidirectional_model\n",
            "Epoch [2/15], Train Loss: 0.3886, Valid Loss: 0.6288, Train Accuracy: 0.8173, Valid Accuracy: 0.6505\n",
            "Model saved to gdrive/My Drive/Comp 4211/pa3/lstm_bidirectional_model\n",
            "Epoch [3/15], Train Loss: 0.3187, Valid Loss: 0.5497, Train Accuracy: 0.8677, Valid Accuracy: 0.7080\n",
            "Model saved to gdrive/My Drive/Comp 4211/pa3/lstm_bidirectional_model\n",
            "Epoch [4/15], Train Loss: 0.2553, Valid Loss: 0.5261, Train Accuracy: 0.8975, Valid Accuracy: 0.7525\n",
            "Model saved to gdrive/My Drive/Comp 4211/pa3/lstm_bidirectional_model\n",
            "Epoch [5/15], Train Loss: 0.2122, Valid Loss: 0.6479, Train Accuracy: 0.9197, Valid Accuracy: 0.7355\n",
            "Epoch [6/15], Train Loss: 0.1761, Valid Loss: 0.8486, Train Accuracy: 0.9330, Valid Accuracy: 0.7145\n",
            "Epoch [7/15], Train Loss: 0.1426, Valid Loss: 0.7039, Train Accuracy: 0.9495, Valid Accuracy: 0.7635\n",
            "Model saved to gdrive/My Drive/Comp 4211/pa3/lstm_bidirectional_model\n",
            "Epoch [8/15], Train Loss: 0.1182, Valid Loss: 0.7059, Train Accuracy: 0.9579, Valid Accuracy: 0.7710\n",
            "Model saved to gdrive/My Drive/Comp 4211/pa3/lstm_bidirectional_model\n",
            "Epoch [9/15], Train Loss: 0.0907, Valid Loss: 0.7146, Train Accuracy: 0.9693, Valid Accuracy: 0.7670\n",
            "Epoch [10/15], Train Loss: 0.0699, Valid Loss: 0.7700, Train Accuracy: 0.9769, Valid Accuracy: 0.7770\n",
            "Model saved to gdrive/My Drive/Comp 4211/pa3/lstm_bidirectional_model\n",
            "Epoch [11/15], Train Loss: 0.0563, Valid Loss: 0.8150, Train Accuracy: 0.9823, Valid Accuracy: 0.7835\n",
            "Model saved to gdrive/My Drive/Comp 4211/pa3/lstm_bidirectional_model\n",
            "Epoch [12/15], Train Loss: 0.0431, Valid Loss: 0.8942, Train Accuracy: 0.9874, Valid Accuracy: 0.7685\n",
            "Epoch [13/15], Train Loss: 0.0347, Valid Loss: 0.9885, Train Accuracy: 0.9896, Valid Accuracy: 0.7690\n",
            "Epoch [14/15], Train Loss: 0.0313, Valid Loss: 1.2866, Train Accuracy: 0.9905, Valid Accuracy: 0.7405\n",
            "Epoch [15/15], Train Loss: 0.0307, Valid Loss: 0.8223, Train Accuracy: 0.9909, Valid Accuracy: 0.7855\n",
            "Model saved to gdrive/My Drive/Comp 4211/pa3/lstm_bidirectional_model\n",
            "Finished Training\n"
          ],
          "name": "stdout"
        }
      ]
    },
    {
      "cell_type": "code",
      "metadata": {
        "colab": {
          "base_uri": "https://localhost:8080/",
          "height": 374
        },
        "id": "RnEJfHirilPm",
        "outputId": "ee078095-dc4a-4557-b7b3-28d3d3d8302f"
      },
      "source": [
        "plt.figure(figsize=(10, 6))\n",
        "plt.plot(train_loss_record_LSTM, label=\"LSTM Training Loss\")\n",
        "plt.plot(valid_loss_record_LSTM, label=\"LSTM Validation Loss\")\n",
        "plt.plot(train_loss_record_LSTM_Bidirectional, label=\"LSTM Bidirectional Training Loss\")\n",
        "plt.plot(valid_loss_record_LSTM_Bidirectional, label=\"LSTM Bidirectional Validation Loss\")\n",
        "plt.legend()\n",
        "plt.show()"
      ],
      "execution_count": 29,
      "outputs": [
        {
          "output_type": "display_data",
          "data": {
            "image/png": "[encoded data removed]",
            "text/plain": [
              "<Figure size 720x432 with 1 Axes>"
            ]
          },
          "metadata": {
            "tags": [],
            "needs_background": "light"
          }
        }
      ]
    },
    {
      "cell_type": "code",
      "metadata": {
        "id": "lEkwiirSai1m"
      },
      "source": [
        "# A (Model 4)\n",
        "class model_LSTM_model4(nn.Module):\n",
        "    def __init__(self):\n",
        "        super(model_LSTM_model4, self).__init__()\n",
        "        self.emb = nn.Embedding.from_pretrained(txt_field.vocab.vectors, freeze = True) \n",
        "        self.rnn = nn.LSTM(\n",
        "                input_size = 50,\n",
        "                hidden_size = 64,\n",
        "                num_layers = 1,\n",
        "                batch_first=True\n",
        "        )\n",
        "        self.drop = nn.Dropout(0.1)\n",
        "        self.linear = nn.Linear(64, 1)\n",
        "        #self.sigmoid = nn.Sigmoid()\n",
        "\n",
        "    def forward(self, text):\n",
        "        # sent: batch_size, max_sent_len\n",
        "        # sent_len: batch_size\n",
        "        text_emb = self.emb(text)  #batch_size, max_sent_len, embedding_dim\n",
        "        \n",
        "        # method 1\n",
        "        outputs, hidden = self.rnn(text_emb)\n",
        "        outputs = outputs[:, -1, :]\n",
        "        outputs = self.linear(self.drop(outputs))\n",
        "        #outputs = self.sigmoid(outputs)\n",
        "        return outputs"
      ],
      "execution_count": 36,
      "outputs": []
    },
    {
      "cell_type": "code",
      "metadata": {
        "id": "6NfgT3kuajZW"
      },
      "source": [
        "# A (Model 4)\n",
        "from torchtext.vocab import GloVe\n",
        "embedding_glove = GloVe(name = \"6B\", dim = 50)\n",
        "txt_field.build_vocab(train_data, min_freq = 2, vectors = embedding_glove)\n",
        "#txt_field.vocab.load_vectors(\"glove.6B.50d\")\n",
        "#pretrained_vectors = txt_field.vocab.vectors\n",
        "LSTM_model4 = model_LSTM_model4().cuda()"
      ],
      "execution_count": 37,
      "outputs": []
    },
    {
      "cell_type": "code",
      "metadata": {
        "colab": {
          "base_uri": "https://localhost:8080/"
        },
        "id": "OXJftHFOY5LT",
        "outputId": "a85b0c71-98f1-4cb9-f8b9-a5ac395898ed"
      },
      "source": [
        "good = txt_field.vocab[\"good\"]\n",
        "happy = txt_field.vocab[\"happy\"]\n",
        "france = txt_field.vocab[\"france\"]\n",
        "germany = txt_field.vocab[\"germany\"]\n",
        "good_vec = txt_field.vocab.vectors[good]\n",
        "happy_vec = txt_field.vocab.vectors[happy]\n",
        "france_vec = txt_field.vocab.vectors[france]\n",
        "germany_vec = txt_field.vocab.vectors[germany]\n",
        "\n",
        "print(torch.dist(happy_vec, good_vec, p = 2))\n",
        "print(torch.dist(france_vec, germany_vec, p = 2))\n",
        "print(torch.dist(france_vec, happy_vec, p = 2))"
      ],
      "execution_count": 32,
      "outputs": [
        {
          "output_type": "stream",
          "text": [
            "tensor(2.7146)\n",
            "tensor(3.9774)\n",
            "tensor(6.3060)\n"
          ],
          "name": "stdout"
        }
      ]
    },
    {
      "cell_type": "code",
      "metadata": {
        "colab": {
          "base_uri": "https://localhost:8080/"
        },
        "id": "YSAXdq-lajzP",
        "outputId": "473aa37e-6fdb-4032-b942-cdb45f861818"
      },
      "source": [
        "# A (Model 4)\n",
        "n_epochs = 15\n",
        "val_acc = None\n",
        "#save_name = 'lstm_model'\n",
        "save_path = os.path.join(PATH, \"lstm_model4\")\n",
        "criterion = nn.BCEWithLogitsLoss()\n",
        "#criterion = nn.BCELoss()\n",
        "optimizer = Adam(LSTM_model4.parameters())\n",
        "#start training\n",
        "train_loss_record_LSTM_model4, valid_loss_record_LSTM_model4 = TRAIN(LSTM_model4, train_iter, valid_iter, n_epochs, criterion, optimizer, val_acc, device, save_path)"
      ],
      "execution_count": 33,
      "outputs": [
        {
          "output_type": "stream",
          "text": [
            "/usr/local/lib/python3.7/dist-packages/torchtext/data/batch.py:23: UserWarning: Batch class will be retired soon and moved to torchtext.legacy. Please see the most recent release notes for further information.\n",
            "  warnings.warn('{} class will be retired soon and moved to torchtext.legacy. Please see the most recent release notes for further information.'.format(self.__class__.__name__), UserWarning)\n"
          ],
          "name": "stderr"
        },
        {
          "output_type": "stream",
          "text": [
            "Epoch [1/15], Train Loss: 0.4991, Valid Loss: 0.7929, Train Accuracy: 0.8072, Valid Accuracy: 0.5005\n",
            "Model saved to gdrive/My Drive/Comp 4211/pa3/lstm_model4\n",
            "Epoch [2/15], Train Loss: 0.4260, Valid Loss: 0.7984, Train Accuracy: 0.8181, Valid Accuracy: 0.5415\n",
            "Model saved to gdrive/My Drive/Comp 4211/pa3/lstm_model4\n",
            "Epoch [3/15], Train Loss: 0.3844, Valid Loss: 0.6872, Train Accuracy: 0.8390, Valid Accuracy: 0.6255\n",
            "Model saved to gdrive/My Drive/Comp 4211/pa3/lstm_model4\n",
            "Epoch [4/15], Train Loss: 0.3625, Valid Loss: 0.6061, Train Accuracy: 0.8542, Valid Accuracy: 0.6435\n",
            "Model saved to gdrive/My Drive/Comp 4211/pa3/lstm_model4\n",
            "Epoch [5/15], Train Loss: 0.3434, Valid Loss: 0.8696, Train Accuracy: 0.8588, Valid Accuracy: 0.5695\n",
            "Epoch [6/15], Train Loss: 0.3479, Valid Loss: 0.5982, Train Accuracy: 0.8566, Valid Accuracy: 0.6570\n",
            "Model saved to gdrive/My Drive/Comp 4211/pa3/lstm_model4\n",
            "Epoch [7/15], Train Loss: 0.3136, Valid Loss: 0.5607, Train Accuracy: 0.8711, Valid Accuracy: 0.7005\n",
            "Model saved to gdrive/My Drive/Comp 4211/pa3/lstm_model4\n",
            "Epoch [8/15], Train Loss: 0.2921, Valid Loss: 0.5361, Train Accuracy: 0.8766, Valid Accuracy: 0.6990\n",
            "Epoch [9/15], Train Loss: 0.2772, Valid Loss: 0.4773, Train Accuracy: 0.8861, Valid Accuracy: 0.7340\n",
            "Model saved to gdrive/My Drive/Comp 4211/pa3/lstm_model4\n",
            "Epoch [10/15], Train Loss: 0.2629, Valid Loss: 0.5935, Train Accuracy: 0.8903, Valid Accuracy: 0.7025\n",
            "Epoch [11/15], Train Loss: 0.2511, Valid Loss: 0.6173, Train Accuracy: 0.8966, Valid Accuracy: 0.7215\n",
            "Epoch [12/15], Train Loss: 0.2363, Valid Loss: 0.6591, Train Accuracy: 0.9043, Valid Accuracy: 0.6870\n",
            "Epoch [13/15], Train Loss: 0.2213, Valid Loss: 0.6183, Train Accuracy: 0.9101, Valid Accuracy: 0.7200\n",
            "Epoch [14/15], Train Loss: 0.2170, Valid Loss: 0.4769, Train Accuracy: 0.9118, Valid Accuracy: 0.7705\n",
            "Model saved to gdrive/My Drive/Comp 4211/pa3/lstm_model4\n",
            "Epoch [15/15], Train Loss: 0.2219, Valid Loss: 0.5142, Train Accuracy: 0.9096, Valid Accuracy: 0.7610\n",
            "Finished Training\n"
          ],
          "name": "stdout"
        }
      ]
    },
    {
      "cell_type": "code",
      "metadata": {
        "id": "qpeuTcNnq6lw"
      },
      "source": [
        "# A (Model 5)\n",
        "class model_LSTM_model5(nn.Module):\n",
        "    def __init__(self):\n",
        "        super(model_LSTM_model5, self).__init__()\n",
        "        self.emb = nn.Embedding.from_pretrained(txt_field.vocab.vectors, freeze = False) \n",
        "        self.rnn = nn.LSTM(\n",
        "                input_size = 50,\n",
        "                hidden_size = 64,\n",
        "                num_layers = 1,\n",
        "                batch_first=True\n",
        "        )\n",
        "        self.drop = nn.Dropout(0.1)\n",
        "        self.linear = nn.Linear(64, 1)\n",
        "        #self.sigmoid = nn.Sigmoid()\n",
        "\n",
        "    def forward(self, text):\n",
        "        # sent: batch_size, max_sent_len\n",
        "        # sent_len: batch_size\n",
        "        text_emb = self.emb(text)  #batch_size, max_sent_len, embedding_dim\n",
        "        \n",
        "        # method 1\n",
        "        outputs, hidden = self.rnn(text_emb)\n",
        "        outputs = outputs[:, -1, :]\n",
        "        outputs = self.linear(self.drop(outputs))\n",
        "        #outputs = self.sigmoid(outputs)\n",
        "        return outputs"
      ],
      "execution_count": 38,
      "outputs": []
    },
    {
      "cell_type": "code",
      "metadata": {
        "id": "dj3iI5kMq7AX"
      },
      "source": [
        "# A (Model 5)\n",
        "n_epochs = 15\n",
        "val_acc = None\n",
        "LSTM_model5 = model_LSTM_model5().cuda()\n",
        "save_path = os.path.join(PATH, \"lstm_model5\")\n",
        "criterion = nn.BCEWithLogitsLoss()\n",
        "#criterion = nn.BCELoss()\n",
        "optimizer = Adam(LSTM_model5.parameters())\n",
        "#start training\n",
        "train_loss_record_LSTM_model5, valid_loss_record_LSTM_model5 = TRAIN(LSTM_model5, train_iter, valid_iter, n_epochs, criterion, optimizer, val_acc, device, save_path)"
      ],
      "execution_count": 39,
      "outputs": []
    },
    {
      "cell_type": "code",
      "metadata": {
        "id": "fZ9Viu4PsJPK"
      },
      "source": [
        "# A (Model 6)\n",
        "class model_LSTM_model6(nn.Module):\n",
        "    def __init__(self, random_vector):\n",
        "        super(model_LSTM_model6, self).__init__()\n",
        "        self.emb = nn.Embedding.from_pretrained(random_vector, freeze = True) \n",
        "        self.rnn = nn.LSTM(\n",
        "                input_size = 50,\n",
        "                hidden_size = 64,\n",
        "                num_layers = 1,\n",
        "                batch_first=True\n",
        "        )\n",
        "        self.drop = nn.Dropout(0.1)\n",
        "        self.linear = nn.Linear(64, 1)\n",
        "        #self.sigmoid = nn.Sigmoid()\n",
        "\n",
        "    def forward(self, text):\n",
        "        # sent: batch_size, max_sent_len\n",
        "        # sent_len: batch_size\n",
        "        text_emb = self.emb(text)  #batch_size, max_sent_len, embedding_dim\n",
        "        \n",
        "        # method 1\n",
        "        outputs, hidden = self.rnn(text_emb)\n",
        "        outputs = outputs[:, -1, :]\n",
        "        outputs = self.linear(self.drop(outputs))\n",
        "        #outputs = self.sigmoid(outputs)\n",
        "        return outputs"
      ],
      "execution_count": 36,
      "outputs": []
    },
    {
      "cell_type": "code",
      "metadata": {
        "id": "tzWJqVHSsJZv"
      },
      "source": [
        "# A (Model 6)\n",
        "random = torch.rand(txt_field.vocab.vectors.shape)\n",
        "LSTM_model6 = model_LSTM_model6(random).cuda()"
      ],
      "execution_count": 37,
      "outputs": []
    },
    {
      "cell_type": "code",
      "metadata": {
        "colab": {
          "base_uri": "https://localhost:8080/"
        },
        "id": "HJfOvXzhsJmQ",
        "outputId": "1f5fc9b8-8961-4733-96c1-8f7d33ef8724"
      },
      "source": [
        "# A (Model 6)\n",
        "n_epochs = 15\n",
        "val_acc = None\n",
        "#save_name = 'lstm_model'\n",
        "save_path = os.path.join(PATH, \"lstm_model6\")\n",
        "criterion = nn.BCEWithLogitsLoss()\n",
        "#criterion = nn.BCELoss()\n",
        "optimizer = Adam(LSTM_model6.parameters())\n",
        "#start training\n",
        "train_loss_record_LSTM_model6, valid_loss_record_LSTM_model6 = TRAIN(LSTM_model6, train_iter, valid_iter, n_epochs, criterion, optimizer, val_acc, device, save_path)"
      ],
      "execution_count": 38,
      "outputs": [
        {
          "output_type": "stream",
          "text": [
            "/usr/local/lib/python3.7/dist-packages/torchtext/data/batch.py:23: UserWarning: Batch class will be retired soon and moved to torchtext.legacy. Please see the most recent release notes for further information.\n",
            "  warnings.warn('{} class will be retired soon and moved to torchtext.legacy. Please see the most recent release notes for further information.'.format(self.__class__.__name__), UserWarning)\n"
          ],
          "name": "stderr"
        },
        {
          "output_type": "stream",
          "text": [
            "Epoch [1/15], Train Loss: 0.5049, Valid Loss: 0.9213, Train Accuracy: 0.8072, Valid Accuracy: 0.5000\n",
            "Model saved to gdrive/My Drive/Comp 4211/pa3/lstm_model6\n",
            "Epoch [2/15], Train Loss: 0.4912, Valid Loss: 0.8678, Train Accuracy: 0.8072, Valid Accuracy: 0.5000\n",
            "Epoch [3/15], Train Loss: 0.4864, Valid Loss: 0.9127, Train Accuracy: 0.8072, Valid Accuracy: 0.5000\n",
            "Epoch [4/15], Train Loss: 0.4784, Valid Loss: 0.7864, Train Accuracy: 0.8072, Valid Accuracy: 0.5000\n",
            "Epoch [5/15], Train Loss: 0.4590, Valid Loss: 0.7234, Train Accuracy: 0.8092, Valid Accuracy: 0.5030\n",
            "Model saved to gdrive/My Drive/Comp 4211/pa3/lstm_model6\n",
            "Epoch [6/15], Train Loss: 0.4491, Valid Loss: 0.7372, Train Accuracy: 0.8154, Valid Accuracy: 0.5625\n",
            "Model saved to gdrive/My Drive/Comp 4211/pa3/lstm_model6\n",
            "Epoch [7/15], Train Loss: 0.4358, Valid Loss: 0.6927, Train Accuracy: 0.8222, Valid Accuracy: 0.6095\n",
            "Model saved to gdrive/My Drive/Comp 4211/pa3/lstm_model6\n",
            "Epoch [8/15], Train Loss: 0.4207, Valid Loss: 0.6206, Train Accuracy: 0.8280, Valid Accuracy: 0.6345\n",
            "Model saved to gdrive/My Drive/Comp 4211/pa3/lstm_model6\n",
            "Epoch [9/15], Train Loss: 0.4125, Valid Loss: 0.8738, Train Accuracy: 0.8325, Valid Accuracy: 0.5090\n",
            "Epoch [10/15], Train Loss: 0.4071, Valid Loss: 0.6009, Train Accuracy: 0.8290, Valid Accuracy: 0.6485\n",
            "Model saved to gdrive/My Drive/Comp 4211/pa3/lstm_model6\n",
            "Epoch [11/15], Train Loss: 0.4003, Valid Loss: 0.6582, Train Accuracy: 0.8336, Valid Accuracy: 0.6125\n",
            "Epoch [12/15], Train Loss: 0.3888, Valid Loss: 0.6433, Train Accuracy: 0.8393, Valid Accuracy: 0.6140\n",
            "Epoch [13/15], Train Loss: 0.3890, Valid Loss: 0.7313, Train Accuracy: 0.8382, Valid Accuracy: 0.6420\n",
            "Epoch [14/15], Train Loss: 0.3804, Valid Loss: 0.6225, Train Accuracy: 0.8424, Valid Accuracy: 0.6490\n",
            "Model saved to gdrive/My Drive/Comp 4211/pa3/lstm_model6\n",
            "Epoch [15/15], Train Loss: 0.3814, Valid Loss: 0.7258, Train Accuracy: 0.8420, Valid Accuracy: 0.6095\n",
            "Finished Training\n"
          ],
          "name": "stdout"
        }
      ]
    },
    {
      "cell_type": "code",
      "metadata": {
        "colab": {
          "base_uri": "https://localhost:8080/",
          "height": 374
        },
        "id": "bcfc4CfHQS46",
        "outputId": "e3e06e3d-5877-45ac-80d7-eb2427dff13b"
      },
      "source": [
        "plt.figure(figsize=(10, 6))\n",
        "plt.plot(train_loss_record_LSTM, label=\"LSTM Training Loss\")\n",
        "plt.plot(valid_loss_record_LSTM, label=\"LSTM Validation Loss\")\n",
        "plt.plot(train_loss_record_LSTM_model4, label=\"LSTM model 4 Training Loss\")\n",
        "plt.plot(valid_loss_record_LSTM_model4, label=\"LSTM model 4 Validation Loss\")\n",
        "plt.plot(train_loss_record_LSTM_model5, label=\"LSTM model 5 Training Loss\")\n",
        "plt.plot(valid_loss_record_LSTM_model5, label=\"LSTM model 5 Validation Loss\")\n",
        "plt.plot(train_loss_record_LSTM_model6, label=\"LSTM model 6 Training Loss\")\n",
        "plt.plot(valid_loss_record_LSTM_model6, label=\"LSTM model 6 Validation Loss\")\n",
        "plt.legend()\n",
        "plt.show()"
      ],
      "execution_count": 39,
      "outputs": [
        {
          "output_type": "display_data",
          "data": {
            "image/png": "[encoded data removed]",
            "text/plain": [
              "<Figure size 720x432 with 1 Axes>"
            ]
          },
          "metadata": {
            "tags": [],
            "needs_background": "light"
          }
        }
      ]
    },
    {
      "cell_type": "code",
      "metadata": {
        "id": "A1Edlf5mTk1T"
      },
      "source": [
        "# B (Model 7)\n",
        "import math\n",
        "class model_LSTM_model7(nn.Module):\n",
        "    def __init__(self, n_vocab, embedding_dim):\n",
        "        super(model_LSTM_model7, self).__init__()\n",
        "        self.emb = nn.Embedding(n_vocab, embedding_dim)\n",
        "        self.emb.weight = nn.init.xavier_normal_(self.emb.weight) \n",
        "        self.rnn = nn.LSTM(\n",
        "                input_size = embedding_dim,\n",
        "                hidden_size = 64,\n",
        "                num_layers = 1,\n",
        "                batch_first=True\n",
        "        )\n",
        "        self.rnn.weight_ih_l0 = nn.init.xavier_normal_(self.rnn.weight_ih_l0)\n",
        "        self.rnn.weight_hh_l0 = nn.init.xavier_normal_(self.rnn.weight_hh_l0)\n",
        "        self.drop = nn.Dropout(0.1)\n",
        "        self.linear = nn.Linear(64, 1)\n",
        "        self.linear.weight = nn.init.xavier_normal_(self.linear.weight)\n",
        "        #self.sigmoid = nn.Sigmoid()\n",
        "\n",
        "    def forward(self, text):\n",
        "        # sent: batch_size, max_sent_len\n",
        "        # sent_len: batch_size\n",
        "        text_emb = self.emb(text)  #batch_size, max_sent_len, embedding_dim\n",
        "        \n",
        "        # method 1\n",
        "        outputs, hidden = self.rnn(text_emb)\n",
        "        outputs = outputs[:, -1, :]\n",
        "        outputs = self.linear(self.drop(outputs))\n",
        "        #outputs = self.sigmoid(outputs)\n",
        "        return outputs"
      ],
      "execution_count": 40,
      "outputs": []
    },
    {
      "cell_type": "code",
      "metadata": {
        "colab": {
          "base_uri": "https://localhost:8080/"
        },
        "id": "JxjRmIpjamDR",
        "outputId": "c7989969-07a9-4873-dd5e-3ca614e2a793"
      },
      "source": [
        "# B (Model 7)\n",
        "n_epochs = 15\n",
        "val_acc = None\n",
        "LSTM_model7 = model_LSTM_model7(n_vocab, 50).cuda()\n",
        "save_path = os.path.join(PATH, \"lstm_model7\")\n",
        "criterion = nn.BCEWithLogitsLoss()\n",
        "#criterion = nn.BCELoss()\n",
        "optimizer = Adam(LSTM_model7.parameters())\n",
        "#start training\n",
        "train_loss_record_LSTM_model7, valid_loss_record_LSTM_model7 = TRAIN(LSTM_model7, train_iter, valid_iter, n_epochs, criterion, optimizer, val_acc, device, save_path)"
      ],
      "execution_count": 41,
      "outputs": [
        {
          "output_type": "stream",
          "text": [
            "/usr/local/lib/python3.7/dist-packages/torchtext/data/batch.py:23: UserWarning: Batch class will be retired soon and moved to torchtext.legacy. Please see the most recent release notes for further information.\n",
            "  warnings.warn('{} class will be retired soon and moved to torchtext.legacy. Please see the most recent release notes for further information.'.format(self.__class__.__name__), UserWarning)\n"
          ],
          "name": "stderr"
        },
        {
          "output_type": "stream",
          "text": [
            "Epoch [1/15], Train Loss: 0.4571, Valid Loss: 0.5698, Train Accuracy: 0.8093, Valid Accuracy: 0.5480\n",
            "Model saved to gdrive/My Drive/Comp 4211/pa3/lstm_model7\n",
            "Epoch [2/15], Train Loss: 0.2466, Valid Loss: 0.5221, Train Accuracy: 0.8896, Valid Accuracy: 0.7650\n",
            "Model saved to gdrive/My Drive/Comp 4211/pa3/lstm_model7\n",
            "Epoch [3/15], Train Loss: 0.1456, Valid Loss: 0.5066, Train Accuracy: 0.9450, Valid Accuracy: 0.7945\n",
            "Model saved to gdrive/My Drive/Comp 4211/pa3/lstm_model7\n",
            "Epoch [4/15], Train Loss: 0.1025, Valid Loss: 0.6294, Train Accuracy: 0.9646, Valid Accuracy: 0.7785\n",
            "Epoch [5/15], Train Loss: 0.0617, Valid Loss: 0.5730, Train Accuracy: 0.9807, Valid Accuracy: 0.7980\n",
            "Model saved to gdrive/My Drive/Comp 4211/pa3/lstm_model7\n",
            "Epoch [6/15], Train Loss: 0.0405, Valid Loss: 1.0820, Train Accuracy: 0.9864, Valid Accuracy: 0.7640\n",
            "Epoch [7/15], Train Loss: 0.0236, Valid Loss: 1.0337, Train Accuracy: 0.9937, Valid Accuracy: 0.7795\n",
            "Epoch [8/15], Train Loss: 0.0152, Valid Loss: 1.2360, Train Accuracy: 0.9970, Valid Accuracy: 0.7785\n",
            "Epoch [9/15], Train Loss: 0.0114, Valid Loss: 1.0913, Train Accuracy: 0.9975, Valid Accuracy: 0.7920\n",
            "Epoch [10/15], Train Loss: 0.0114, Valid Loss: 1.4099, Train Accuracy: 0.9969, Valid Accuracy: 0.7690\n",
            "Epoch [11/15], Train Loss: 0.0109, Valid Loss: 1.1162, Train Accuracy: 0.9965, Valid Accuracy: 0.7900\n",
            "Epoch [12/15], Train Loss: 0.0110, Valid Loss: 1.2869, Train Accuracy: 0.9967, Valid Accuracy: 0.7755\n",
            "Epoch [13/15], Train Loss: 0.0062, Valid Loss: 1.5480, Train Accuracy: 0.9984, Valid Accuracy: 0.7700\n",
            "Epoch [14/15], Train Loss: 0.0048, Valid Loss: 1.5793, Train Accuracy: 0.9988, Valid Accuracy: 0.7745\n",
            "Epoch [15/15], Train Loss: 0.0030, Valid Loss: 1.6916, Train Accuracy: 0.9995, Valid Accuracy: 0.7700\n",
            "Finished Training\n"
          ],
          "name": "stdout"
        }
      ]
    },
    {
      "cell_type": "code",
      "metadata": {
        "id": "RyQF0FMbam_5"
      },
      "source": [
        "# B (Model 8)\n",
        "class model_LSTM_model8(nn.Module):\n",
        "    def __init__(self, n_vocab, embedding_dim):\n",
        "        super(model_LSTM_model8, self).__init__()\n",
        "        self.emb = nn.Embedding(n_vocab, embedding_dim)\n",
        "        self.emb.weight = nn.init.kaiming_normal_(self.emb.weight) \n",
        "        self.rnn = nn.LSTM(\n",
        "                input_size = embedding_dim,\n",
        "                hidden_size = 64,\n",
        "                num_layers = 1,\n",
        "                batch_first=True\n",
        "        )\n",
        "        self.rnn.weight_ih_l0 = nn.init.kaiming_normal_(self.rnn.weight_ih_l0)\n",
        "        self.rnn.weight_hh_l0 = nn.init.kaiming_normal_(self.rnn.weight_hh_l0)\n",
        "        self.drop = nn.Dropout(0.1)\n",
        "        self.linear = nn.Linear(64, 1)\n",
        "        self.linear.weight = nn.init.kaiming_normal_(self.linear.weight)\n",
        "        #self.sigmoid = nn.Sigmoid()\n",
        "\n",
        "    def forward(self, text):\n",
        "        # sent: batch_size, max_sent_len\n",
        "        # sent_len: batch_size\n",
        "        text_emb = self.emb(text)  #batch_size, max_sent_len, embedding_dim\n",
        "        \n",
        "        # method 1\n",
        "        outputs, hidden = self.rnn(text_emb)\n",
        "        outputs = outputs[:, -1, :]\n",
        "        outputs = self.linear(self.drop(outputs))\n",
        "        #outputs = self.sigmoid(outputs)\n",
        "        return outputs"
      ],
      "execution_count": 42,
      "outputs": []
    },
    {
      "cell_type": "code",
      "metadata": {
        "colab": {
          "base_uri": "https://localhost:8080/"
        },
        "id": "4MRw46upan01",
        "outputId": "17d648ed-c9b5-414d-9508-0bf0f88b789b"
      },
      "source": [
        "# B (Model 8)\n",
        "n_epochs = 15\n",
        "val_acc = None\n",
        "LSTM_model8 = model_LSTM_model8(n_vocab, 50).cuda()\n",
        "save_path = os.path.join(PATH, \"lstm_model8\")\n",
        "criterion = nn.BCEWithLogitsLoss()\n",
        "#criterion = nn.BCELoss()\n",
        "optimizer = Adam(LSTM_model8.parameters())\n",
        "#start training\n",
        "train_loss_record_LSTM_model8, valid_loss_record_LSTM_model8 = TRAIN(LSTM_model8, train_iter, valid_iter, n_epochs, criterion, optimizer, val_acc, device, save_path)"
      ],
      "execution_count": 43,
      "outputs": [
        {
          "output_type": "stream",
          "text": [
            "/usr/local/lib/python3.7/dist-packages/torchtext/data/batch.py:23: UserWarning: Batch class will be retired soon and moved to torchtext.legacy. Please see the most recent release notes for further information.\n",
            "  warnings.warn('{} class will be retired soon and moved to torchtext.legacy. Please see the most recent release notes for further information.'.format(self.__class__.__name__), UserWarning)\n"
          ],
          "name": "stderr"
        },
        {
          "output_type": "stream",
          "text": [
            "Epoch [1/15], Train Loss: 0.4570, Valid Loss: 0.8071, Train Accuracy: 0.8117, Valid Accuracy: 0.5945\n",
            "Model saved to gdrive/My Drive/Comp 4211/pa3/lstm_model8\n",
            "Epoch [2/15], Train Loss: 0.2855, Valid Loss: 0.5599, Train Accuracy: 0.8826, Valid Accuracy: 0.7270\n",
            "Model saved to gdrive/My Drive/Comp 4211/pa3/lstm_model8\n",
            "Epoch [3/15], Train Loss: 0.1735, Valid Loss: 0.5652, Train Accuracy: 0.9312, Valid Accuracy: 0.7515\n",
            "Model saved to gdrive/My Drive/Comp 4211/pa3/lstm_model8\n",
            "Epoch [4/15], Train Loss: 0.1231, Valid Loss: 0.4925, Train Accuracy: 0.9578, Valid Accuracy: 0.7935\n",
            "Model saved to gdrive/My Drive/Comp 4211/pa3/lstm_model8\n",
            "Epoch [5/15], Train Loss: 0.0720, Valid Loss: 0.6441, Train Accuracy: 0.9760, Valid Accuracy: 0.7740\n",
            "Epoch [6/15], Train Loss: 0.0438, Valid Loss: 0.8908, Train Accuracy: 0.9860, Valid Accuracy: 0.7700\n",
            "Epoch [7/15], Train Loss: 0.0315, Valid Loss: 0.9455, Train Accuracy: 0.9899, Valid Accuracy: 0.7710\n",
            "Epoch [8/15], Train Loss: 0.0187, Valid Loss: 0.9906, Train Accuracy: 0.9944, Valid Accuracy: 0.7605\n",
            "Epoch [9/15], Train Loss: 0.0202, Valid Loss: 1.1033, Train Accuracy: 0.9939, Valid Accuracy: 0.7650\n",
            "Epoch [10/15], Train Loss: 0.0081, Valid Loss: 1.1587, Train Accuracy: 0.9973, Valid Accuracy: 0.7780\n",
            "Epoch [11/15], Train Loss: 0.0043, Valid Loss: 1.2270, Train Accuracy: 0.9991, Valid Accuracy: 0.7855\n",
            "Epoch [12/15], Train Loss: 0.0025, Valid Loss: 1.3906, Train Accuracy: 0.9996, Valid Accuracy: 0.7790\n",
            "Epoch [13/15], Train Loss: 0.0016, Valid Loss: 1.4677, Train Accuracy: 0.9999, Valid Accuracy: 0.7790\n",
            "Epoch [14/15], Train Loss: 0.0012, Valid Loss: 1.5360, Train Accuracy: 0.9999, Valid Accuracy: 0.7770\n",
            "Epoch [15/15], Train Loss: 0.0010, Valid Loss: 1.6115, Train Accuracy: 0.9999, Valid Accuracy: 0.7705\n",
            "Finished Training\n"
          ],
          "name": "stdout"
        }
      ]
    },
    {
      "cell_type": "code",
      "metadata": {
        "colab": {
          "base_uri": "https://localhost:8080/",
          "height": 374
        },
        "id": "nBAzRUOzWLp9",
        "outputId": "85df7458-235e-4c00-9e4f-17c4940b36d1"
      },
      "source": [
        "plt.figure(figsize=(10, 6))\n",
        "plt.plot(train_loss_record_LSTM, label=\"LSTM Training Loss\")\n",
        "plt.plot(valid_loss_record_LSTM, label=\"LSTM Validation Loss\")\n",
        "plt.plot(train_loss_record_LSTM_model7, label=\"LSTM model 7 Training Loss\")\n",
        "plt.plot(valid_loss_record_LSTM_model7, label=\"LSTM model 7 Validation Loss\")\n",
        "plt.plot(train_loss_record_LSTM_model8, label=\"LSTM model 8 Training Loss\")\n",
        "plt.plot(valid_loss_record_LSTM_model8, label=\"LSTM model 8 Validation Loss\")\n",
        "plt.legend()\n",
        "plt.show()"
      ],
      "execution_count": 44,
      "outputs": [
        {
          "output_type": "display_data",
          "data": {
            "image/png": "[encoded data removed]",
            "text/plain": [
              "<Figure size 720x432 with 1 Axes>"
            ]
          },
          "metadata": {
            "tags": [],
            "needs_background": "light"
          }
        }
      ]
    },
    {
      "cell_type": "code",
      "metadata": {
        "colab": {
          "base_uri": "https://localhost:8080/"
        },
        "id": "KOW6VN16WL16",
        "outputId": "75610a78-549f-426f-df54-69150c35cd2c"
      },
      "source": [
        "model_best = LSTM_model5.to(device)\n",
        "optimizer = Adam(model_best.parameters())\n",
        "save_path = os.path.join(PATH, \"lstm_model5\")\n",
        "best_val_acc = load_checkpoint(save_path, model_best, optimizer)\n",
        "\n",
        "# make splits for data\n",
        "train_data, test_data = TabularDataset.splits(path = PATH, train = \"train_train.csv\", test = \"test.csv\", format = \"csv\", \n",
        "                                  fields=[(\"label\", label_field), (\"text\", txt_field)], skip_header = True)\n",
        "\n",
        "# build the vocabulary on the training set only, \n",
        "txt_field.build_vocab(train_data, min_freq = 2) \n",
        "#txt_field.build_vocab(valid_data, min_freq = 2)\n",
        "#label_field.build_vocab(train)\n",
        "\n",
        "# make iterator for splits\n",
        "train_iter, test_iter = BucketIterator.splits((train_data, test_data), batch_size = 64, sort_key = lambda x: len(x.text), sort_within_batch = True, shuffle = False)\n",
        "\n",
        "model_best.eval()\n",
        "pred = []\n",
        "#pred = np.empty(0)\n",
        "with torch.no_grad():\n",
        "  for b in test_iter:\n",
        "    text, text_len = b.text\n",
        "    input = text\n",
        "    input = input.to(device)\n",
        "    output = model_best(input)\n",
        "    output = torch.squeeze(output, 1)\n",
        "    output = output.cpu().detach().numpy()\n",
        "    pred = np.concatenate((pred, output))\n",
        "  pred[pred > 0.5] = 1\n",
        "  pred[pred <= 0.5] = 0\n",
        "for i in range(2000):\n",
        "  test.iloc[i, 0] = pred[i]"
      ],
      "execution_count": 40,
      "outputs": [
        {
          "output_type": "stream",
          "text": [
            "Model loaded from gdrive/My Drive/Comp 4211/pa3/lstm_model5, with val accuracy: 0.8160000443458557\n"
          ],
          "name": "stdout"
        },
        {
          "output_type": "stream",
          "text": [
            "/usr/local/lib/python3.7/dist-packages/torchtext/data/example.py:68: UserWarning: Example class will be retired soon and moved to torchtext.legacy. Please see the most recent release notes for further information.\n",
            "  warnings.warn('Example class will be retired soon and moved to torchtext.legacy. Please see the most recent release notes for further information.', UserWarning)\n",
            "/usr/local/lib/python3.7/dist-packages/torchtext/data/example.py:78: UserWarning: Example class will be retired soon and moved to torchtext.legacy. Please see the most recent release notes for further information.\n",
            "  warnings.warn('Example class will be retired soon and moved to torchtext.legacy. Please see the most recent release notes for further information.', UserWarning)\n",
            "/usr/local/lib/python3.7/dist-packages/torchtext/data/iterator.py:48: UserWarning: BucketIterator class will be retired soon and moved to torchtext.legacy. Please see the most recent release notes for further information.\n",
            "  warnings.warn('{} class will be retired soon and moved to torchtext.legacy. Please see the most recent release notes for further information.'.format(self.__class__.__name__), UserWarning)\n",
            "/usr/local/lib/python3.7/dist-packages/torchtext/data/batch.py:23: UserWarning: Batch class will be retired soon and moved to torchtext.legacy. Please see the most recent release notes for further information.\n",
            "  warnings.warn('{} class will be retired soon and moved to torchtext.legacy. Please see the most recent release notes for further information.'.format(self.__class__.__name__), UserWarning)\n"
          ],
          "name": "stderr"
        }
      ]
    },
    {
      "cell_type": "code",
      "metadata": {
        "id": "Ak-049mXYPuu"
      },
      "source": [
        "p1_path = os.path.join(PATH, \"pred.csv\")\n",
        "test.to_csv(p1_path, header = True, index = False)"
      ],
      "execution_count": 41,
      "outputs": []
    },
    {
      "cell_type": "code",
      "metadata": {
        "id": "zPX1-TKJYP6i"
      },
      "source": [
        ""
      ],
      "execution_count": null,
      "outputs": []
    }
  ]
}